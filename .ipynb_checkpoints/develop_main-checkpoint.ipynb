{
 "cells": [
  {
   "cell_type": "markdown",
   "id": "ebda291c-1f37-49af-bbee-f66d04b4c375",
   "metadata": {},
   "source": [
    "# Notebook developing main.py"
   ]
  },
  {
   "cell_type": "code",
   "execution_count": null,
   "id": "33ba6dfa-a29f-4b4d-a1d7-c4f226e064be",
   "metadata": {},
   "outputs": [],
   "source": []
  },
  {
   "cell_type": "code",
   "execution_count": 1,
   "id": "7c3a11e7-d3b9-47b8-9288-8c1978926935",
   "metadata": {},
   "outputs": [],
   "source": [
    "import datetime\n",
    "import pandas as pd\n",
    "import os\n",
    "from plotly.subplots import make_subplots\n",
    "\n",
    "### import scripts with codes to do eda\n",
    "from scripts import ydata_profiling as dp\n",
    "from scripts import univariate_analysis as uv\n",
    "from scripts import bivariate_analysis as bv\n",
    "from scripts import data_segmentation_analysis as ds"
   ]
  },
  {
   "cell_type": "code",
   "execution_count": 2,
   "id": "4266f5ac-cafd-4ff8-99a4-bc55e0a865e5",
   "metadata": {},
   "outputs": [],
   "source": [
    "### read json config\n",
    "import json\n",
    "path_json = 'config.json'\n",
    "with open(path_json, 'r') as archivo_json:\n",
    "    config = json.load(archivo_json)"
   ]
  },
  {
   "cell_type": "code",
   "execution_count": null,
   "id": "00c07a8c-8695-4b6e-8125-c04f1a835cf4",
   "metadata": {},
   "outputs": [],
   "source": []
  },
  {
   "cell_type": "markdown",
   "id": "81ae0c58-c5af-49a2-9187-76b125b4c5ea",
   "metadata": {},
   "source": [
    "### 0. Define parameters of the report"
   ]
  },
  {
   "cell_type": "code",
   "execution_count": 3,
   "id": "dc650637-a2d9-43cd-912e-3c5f17892234",
   "metadata": {},
   "outputs": [
    {
     "data": {
      "text/html": [
       "<div>\n",
       "<style scoped>\n",
       "    .dataframe tbody tr th:only-of-type {\n",
       "        vertical-align: middle;\n",
       "    }\n",
       "\n",
       "    .dataframe tbody tr th {\n",
       "        vertical-align: top;\n",
       "    }\n",
       "\n",
       "    .dataframe thead th {\n",
       "        text-align: right;\n",
       "    }\n",
       "</style>\n",
       "<table border=\"1\" class=\"dataframe\">\n",
       "  <thead>\n",
       "    <tr style=\"text-align: right;\">\n",
       "      <th></th>\n",
       "      <th>p (mbar)</th>\n",
       "      <th>T (degC)</th>\n",
       "      <th>Tpot (K)</th>\n",
       "      <th>Tdew (degC)</th>\n",
       "      <th>rh (%)</th>\n",
       "      <th>VPmax (mbar)</th>\n",
       "      <th>VPact (mbar)</th>\n",
       "      <th>VPdef (mbar)</th>\n",
       "      <th>sh (g/kg)</th>\n",
       "      <th>H2OC (mmol/mol)</th>\n",
       "      <th>rho (g/m**3)</th>\n",
       "      <th>wv (m/s)</th>\n",
       "      <th>max. wv (m/s)</th>\n",
       "      <th>wd (deg)</th>\n",
       "    </tr>\n",
       "    <tr>\n",
       "      <th>Date Time</th>\n",
       "      <th></th>\n",
       "      <th></th>\n",
       "      <th></th>\n",
       "      <th></th>\n",
       "      <th></th>\n",
       "      <th></th>\n",
       "      <th></th>\n",
       "      <th></th>\n",
       "      <th></th>\n",
       "      <th></th>\n",
       "      <th></th>\n",
       "      <th></th>\n",
       "      <th></th>\n",
       "      <th></th>\n",
       "    </tr>\n",
       "  </thead>\n",
       "  <tbody>\n",
       "    <tr>\n",
       "      <th>2009-01-01 00:10:00</th>\n",
       "      <td>996.52</td>\n",
       "      <td>-8.02</td>\n",
       "      <td>265.40</td>\n",
       "      <td>-8.90</td>\n",
       "      <td>93.3</td>\n",
       "      <td>3.33</td>\n",
       "      <td>3.11</td>\n",
       "      <td>0.22</td>\n",
       "      <td>1.94</td>\n",
       "      <td>3.12</td>\n",
       "      <td>1307.75</td>\n",
       "      <td>1.03</td>\n",
       "      <td>1.75</td>\n",
       "      <td>152.3</td>\n",
       "    </tr>\n",
       "    <tr>\n",
       "      <th>2009-01-01 00:20:00</th>\n",
       "      <td>996.57</td>\n",
       "      <td>-8.41</td>\n",
       "      <td>265.01</td>\n",
       "      <td>-9.28</td>\n",
       "      <td>93.4</td>\n",
       "      <td>3.23</td>\n",
       "      <td>3.02</td>\n",
       "      <td>0.21</td>\n",
       "      <td>1.89</td>\n",
       "      <td>3.03</td>\n",
       "      <td>1309.80</td>\n",
       "      <td>0.72</td>\n",
       "      <td>1.50</td>\n",
       "      <td>136.1</td>\n",
       "    </tr>\n",
       "  </tbody>\n",
       "</table>\n",
       "</div>"
      ],
      "text/plain": [
       "                     p (mbar)  T (degC)  Tpot (K)  Tdew (degC)  rh (%)  \\\n",
       "Date Time                                                                \n",
       "2009-01-01 00:10:00    996.52     -8.02    265.40        -8.90    93.3   \n",
       "2009-01-01 00:20:00    996.57     -8.41    265.01        -9.28    93.4   \n",
       "\n",
       "                     VPmax (mbar)  VPact (mbar)  VPdef (mbar)  sh (g/kg)  \\\n",
       "Date Time                                                                  \n",
       "2009-01-01 00:10:00          3.33          3.11          0.22       1.94   \n",
       "2009-01-01 00:20:00          3.23          3.02          0.21       1.89   \n",
       "\n",
       "                     H2OC (mmol/mol)  rho (g/m**3)  wv (m/s)  max. wv (m/s)  \\\n",
       "Date Time                                                                     \n",
       "2009-01-01 00:10:00             3.12       1307.75      1.03           1.75   \n",
       "2009-01-01 00:20:00             3.03       1309.80      0.72           1.50   \n",
       "\n",
       "                     wd (deg)  \n",
       "Date Time                      \n",
       "2009-01-01 00:10:00     152.3  \n",
       "2009-01-01 00:20:00     136.1  "
      ]
     },
     "execution_count": 3,
     "metadata": {},
     "output_type": "execute_result"
    }
   ],
   "source": [
    "# read data\n",
    "name_data_pkl = config['config_report']['name_data_pkl']\n",
    "path_data_pkl = 'data/' + name_data_pkl\n",
    "data = pd.read_pickle(path_data_pkl)\n",
    "data.head(2)"
   ]
  },
  {
   "cell_type": "code",
   "execution_count": 4,
   "id": "3954b50b-ef60-4294-bfda-91101a3288e4",
   "metadata": {},
   "outputs": [
    {
     "data": {
      "text/plain": [
       "'dataset-climate-tf-2024-01-11-20-48-21'"
      ]
     },
     "execution_count": 4,
     "metadata": {},
     "output_type": "execute_result"
    }
   ],
   "source": [
    "# define id report\n",
    "name_report = config['config_report']['name_report']\n",
    "datetime_report = datetime.datetime.now().strftime(\"%Y-%m-%d-%H-%M-%S\")\n",
    "id_report = name_report + '-' + datetime_report\n",
    "id_report"
   ]
  },
  {
   "cell_type": "code",
   "execution_count": 5,
   "id": "08779f57-02bb-426e-9555-d172d309a4a3",
   "metadata": {},
   "outputs": [],
   "source": [
    "# create folders to save report\n",
    "os.makedirs('output_eda/' + id_report)\n",
    "os.makedirs('output_eda/' + id_report + '/ydata_profiling')\n",
    "os.makedirs('output_eda/' + id_report + '/univariate_analysis')\n",
    "os.makedirs('output_eda/' + id_report + '/bivariate_analysis')\n",
    "os.makedirs('output_eda/' + id_report + '/data_segmentation_analysis')"
   ]
  },
  {
   "cell_type": "code",
   "execution_count": null,
   "id": "1d6801fc-c223-4281-bf23-da0339d2c880",
   "metadata": {},
   "outputs": [],
   "source": []
  },
  {
   "cell_type": "code",
   "execution_count": null,
   "id": "9dcaf26c-d8ac-4dca-a85e-fbb0b0f53ba1",
   "metadata": {},
   "outputs": [],
   "source": []
  },
  {
   "cell_type": "markdown",
   "id": "a40006a3-61b2-4d84-9b33-4be2b0eca020",
   "metadata": {},
   "source": [
    "### 1. Define reports to show"
   ]
  },
  {
   "cell_type": "code",
   "execution_count": 6,
   "id": "c15bb53e-f684-4bfc-aa0e-ef478e300546",
   "metadata": {},
   "outputs": [
    {
     "name": "stdout",
     "output_type": "stream",
     "text": [
      "--- repots to show ---\n",
      "show_ydata_profiling:  False\n",
      "show_univariate_analysis:  False\n",
      "show_bivariate_analysis:  True\n",
      "show_data_segmentation_analysis:  False\n",
      "--- --- --- --- --- ---\n"
     ]
    }
   ],
   "source": [
    "### define reports to show\n",
    "show_ydata_profiling = config['reports_to_show']['ydata_profiling']\n",
    "show_univariate_analysis = config['reports_to_show']['univariate_analysis']\n",
    "show_bivariate_analysis = config['reports_to_show']['bivariate_analysis']\n",
    "show_data_segmentation_analysis = config['reports_to_show']['data_segmentation_analysis']\n",
    "\n",
    "print('--- repots to show ---')\n",
    "print('show_ydata_profiling: ', show_ydata_profiling)\n",
    "print('show_univariate_analysis: ', show_univariate_analysis)\n",
    "print('show_bivariate_analysis: ', show_bivariate_analysis)\n",
    "print('show_data_segmentation_analysis: ', show_data_segmentation_analysis)\n",
    "print('--- --- --- --- --- ---')"
   ]
  },
  {
   "cell_type": "code",
   "execution_count": null,
   "id": "ee399b92-99e0-44e9-874c-3e013044ad22",
   "metadata": {},
   "outputs": [],
   "source": []
  },
  {
   "cell_type": "code",
   "execution_count": null,
   "id": "c28ea893-5924-4ede-a393-12050e03f115",
   "metadata": {},
   "outputs": [],
   "source": []
  },
  {
   "cell_type": "code",
   "execution_count": null,
   "id": "6fdd3b36-ecf9-4a1f-bc57-d531a1d9eb74",
   "metadata": {},
   "outputs": [],
   "source": []
  },
  {
   "cell_type": "markdown",
   "id": "5f3d33a1-1ae5-42b3-abc9-ed4990c6a143",
   "metadata": {},
   "source": [
    "### 2. ydata-profiling"
   ]
  },
  {
   "cell_type": "code",
   "execution_count": 7,
   "id": "9bc4a1ae-14a4-4bea-a4ef-ef9fe1157279",
   "metadata": {},
   "outputs": [],
   "source": [
    "if show_ydata_profiling:\n",
    "\n",
    "    # read params\n",
    "    param_minimal = config['ydata_profiling']['minimal']\n",
    "\n",
    "    # generate report\n",
    "    print(f'ydata-profiling... time:{datetime.datetime.now().strftime(\"%Y-%m-%d %H:%M:%S\")}')\n",
    "    dp.generate_report_ydata_profiling(df = data, \n",
    "                                       minimal = param_minimal, \n",
    "                                       id_report = id_report)"
   ]
  },
  {
   "cell_type": "code",
   "execution_count": null,
   "id": "39dda89a-6c95-4ff7-8423-f8afb832634c",
   "metadata": {},
   "outputs": [],
   "source": []
  },
  {
   "cell_type": "code",
   "execution_count": null,
   "id": "d574d61d-3504-4786-9dfa-8a8dbc347004",
   "metadata": {},
   "outputs": [],
   "source": []
  },
  {
   "cell_type": "code",
   "execution_count": null,
   "id": "4efefb34-06c8-4a81-b504-81602769622a",
   "metadata": {},
   "outputs": [],
   "source": []
  },
  {
   "cell_type": "markdown",
   "id": "1e3a959c-bd7e-4f42-b006-fead09d1b129",
   "metadata": {},
   "source": [
    "### 3. univariate_analysis\n",
    "The code is divided in two parts:\n",
    "- read params to generate de plots\n",
    "- generate individual plolty figure of each plot"
   ]
  },
  {
   "cell_type": "code",
   "execution_count": 8,
   "id": "c04a9a7f-bb98-4ba0-9dfd-dbb7d0f8b480",
   "metadata": {},
   "outputs": [],
   "source": [
    "if show_univariate_analysis:\n",
    "    \n",
    "    \"\"\" PARAMS \"\"\"\n",
    "    # read params number columns to plot\n",
    "    param_number_columns = config['univariate_analysis']['number_columns']\n",
    "    \n",
    "    # read params zoom tendency\n",
    "    param_zoom = config['univariate_analysis']['zoom_tendency']['zoom']\n",
    "    param_zoom_start_date = config['univariate_analysis']['zoom_tendency']['start_date']\n",
    "    param_zoom_end_date = config['univariate_analysis']['zoom_tendency']['end_date']\n",
    "    \n",
    "    # read params smooth data\n",
    "    param_smooth_ma_window = config['univariate_analysis']['smooth_data']['moving_average']['window']\n",
    "    param_smooth_wma_weights = config['univariate_analysis']['smooth_data']['weighted_moving_average']['weights']\n",
    "    param_smooth_ema_aplha = config['univariate_analysis']['smooth_data']['exponential_moving_average']['alpha']\n",
    "    \n",
    "    # read params acf/pacf\n",
    "    param_lags = config['univariate_analysis']['acf_pacf']['lags']\n",
    "\n",
    "\n",
    "    \"\"\" PLOTS \"\"\"\n",
    "    ################### fig histogram all features ###################\n",
    "    print(f'statistics... time:{datetime.datetime.now().strftime(\"%Y-%m-%d %H:%M:%S\")}')\n",
    "    fig_statistics = uv.generate_descriptive_statistics(df = data)\n",
    "    fig_statistics.write_html(f\"output_eda/{id_report}/univariate_analysis/statistics.html\")\n",
    "\n",
    "    \n",
    "    ################### fig histogram all features ###################\n",
    "    print(f'histogram... time:{datetime.datetime.now().strftime(\"%Y-%m-%d %H:%M:%S\")}')\n",
    "    fig_hist_all = uv.plot_multiple_hist(df = data, number_columns = param_number_columns)\n",
    "    fig_hist_all.write_html(f\"output_eda/{id_report}/univariate_analysis/histograms.html\")\n",
    "\n",
    "    fig_hist_kde_all = uv.plot_kde_hist(df = data, number_columns = param_number_columns)\n",
    "    fig_hist_kde_all.savefig(f\"output_eda/{id_report}/univariate_analysis/histograms_kde.png\", dpi = 300)\n",
    "\n",
    "\n",
    "    ################### zoom data to tendency plots (trend-moving averavge) - zoom to reduce cost to plot ###################\n",
    "    if param_zoom:\n",
    "        data_tendency = data.loc[param_zoom_start_date:param_zoom_end_date]\n",
    "        data_smooth = data.loc[param_zoom_start_date:param_zoom_end_date]\n",
    "    else:\n",
    "        data_tendency = data.copy()\n",
    "        data_smooth = data.copy()\n",
    "\n",
    "    \n",
    "    # ################### fig tendency all features ###################    \n",
    "    print(f'trend... time:{datetime.datetime.now().strftime(\"%Y-%m-%d %H:%M:%S\")}')\n",
    "    fig_tendency_all = uv.plot_multiple_tendency(df = data_tendency, number_columns = param_number_columns)\n",
    "    fig_tendency_all.write_html(f\"output_eda/{id_report}/univariate_analysis/tendency.html\")\n",
    "    \n",
    "    # ################### fig boxplot for each month and year ###################  \n",
    "    print(f'boxplots... time:{datetime.datetime.now().strftime(\"%Y-%m-%d %H:%M:%S\")}')    \n",
    "    fig_boxplot_all = uv.plot_multiple_boxplot_months(df = data, number_columns = 1)  # always 1 boxplot for column beacuse there are 12 months\n",
    "    fig_boxplot_all.write_html(f\"output_eda/{id_report}/univariate_analysis/boxplots.html\")\n",
    "    \n",
    "    # ################### fig smooth data ###################    \n",
    "    ## moving average\n",
    "    print(f'moving average... time:{datetime.datetime.now().strftime(\"%Y-%m-%d %H:%M:%S\")}')\n",
    "    data_moving_average = uv.apply_moving_average(df = data_smooth.copy(), window_size = param_smooth_ma_window)\n",
    "    fig_moving_average = uv.plot_compare_tendencias(df_original = data_smooth, \n",
    "                                                    df_smoothed = data_moving_average,\n",
    "                                                    number_columns = param_number_columns,\n",
    "                                                    kind_smooth = f'moving average - window: {param_smooth_ma_window}'\n",
    "                                                )\n",
    "    fig_moving_average.write_html(f\"output_eda/{id_report}/univariate_analysis/moving_average.html\")\n",
    "    \n",
    "    ## weighted moving average\n",
    "    print(f'weighted moving average... time:{datetime.datetime.now().strftime(\"%Y-%m-%d %H:%M:%S\")}')\n",
    "    data_weighted_moving_average = uv.apply_weighted_moving_average(df = data_smooth.copy(), weights = param_smooth_wma_weights)\n",
    "    fig_weighted_moving_average = uv.plot_compare_tendencias(df_original = data_smooth,\n",
    "                                                             df_smoothed = data_weighted_moving_average,\n",
    "                                                             number_columns = param_number_columns,\n",
    "                                                             kind_smooth = f'weighted moving average - weights: [{param_smooth_wma_weights}]'\n",
    "                                                            )\n",
    "    fig_weighted_moving_average.write_html(f\"output_eda/{id_report}/univariate_analysis/weighted_moving_average.html\")\n",
    "    \n",
    "    ## exponential moving average\n",
    "    print(f'exponential moving average... time:{datetime.datetime.now().strftime(\"%Y-%m-%d %H:%M:%S\")}')\n",
    "    data_exponential_moving_average = uv.apply_exponential_moving_average(df = data_smooth.copy(), alpha = param_smooth_ema_aplha)\n",
    "    fig_exponential_moving_average = uv.plot_compare_tendencias(df_original = data_smooth,\n",
    "                                                                df_smoothed = data_exponential_moving_average,\n",
    "                                                                number_columns = param_number_columns,\n",
    "                                                                kind_smooth = f'exponential moving average - alpha: {param_smooth_ema_aplha}'\n",
    "                                                               )\n",
    "    fig_exponential_moving_average.write_html(f\"output_eda/{id_report}/univariate_analysis/exponential_moving_average.html\")\n",
    "    \n",
    "    \n",
    "    # ################### fig acf ###################\n",
    "    print(f'acf... time:{datetime.datetime.now().strftime(\"%Y-%m-%d %H:%M:%S\")}')\n",
    "    fig_acf = uv.plot_all_acf(df = data, lags = param_lags, number_columns = param_number_columns)\n",
    "    fig_acf.write_html(f\"output_eda/{id_report}/univariate_analysis/acf.html\")\n",
    "\n",
    "    print(f'acf stats models... time:{datetime.datetime.now().strftime(\"%Y-%m-%d %H:%M:%S\")}')\n",
    "    fig_acf_stats = uv.plot_all_acf_stats(df = data, lags = param_lags, number_columns = param_number_columns) # v2 statsmodels\n",
    "    fig_acf_stats.savefig(f\"output_eda/{id_report}/univariate_analysis/acf_stats.png\", dpi = 300)\n",
    "    \n",
    "    \n",
    "    # ################### fig pacf ###################\n",
    "    print(f'pacf... time:{datetime.datetime.now().strftime(\"%Y-%m-%d %H:%M:%S\")}')\n",
    "    fig_pacf = uv.plot_all_pacf(df = data, lags = param_lags, number_columns = param_number_columns)\n",
    "    fig_pacf.write_html(f\"output_eda/{id_report}/univariate_analysis/pacf.html\")\n",
    "\n",
    "    print(f'pacf stats models... time:{datetime.datetime.now().strftime(\"%Y-%m-%d %H:%M:%S\")}')\n",
    "    fig_acf_stats = uv.plot_all_pacf_stats(df = data, lags = param_lags, number_columns = param_number_columns) # v2 statsmodels\n",
    "    fig_acf_stats.savefig(f\"output_eda/{id_report}/univariate_analysis/pacf_stats.png\", dpi = 300)\n",
    "\n",
    "\n",
    "    # ################### fin ###################\n",
    "    print(f'fin... time:{datetime.datetime.now().strftime(\"%Y-%m-%d %H:%M:%S\")}')"
   ]
  },
  {
   "cell_type": "code",
   "execution_count": null,
   "id": "348ca436-0b93-4bc8-b484-54134b9d557a",
   "metadata": {},
   "outputs": [],
   "source": []
  },
  {
   "cell_type": "code",
   "execution_count": null,
   "id": "9678bfba-147b-4269-97d4-a4cd97d56f23",
   "metadata": {},
   "outputs": [],
   "source": []
  },
  {
   "cell_type": "code",
   "execution_count": null,
   "id": "867a8dc9-0453-4493-ba99-475dc2ab7e77",
   "metadata": {},
   "outputs": [],
   "source": []
  },
  {
   "cell_type": "code",
   "execution_count": null,
   "id": "3344be67-75e4-4b52-aaaa-de106868a337",
   "metadata": {},
   "outputs": [],
   "source": []
  },
  {
   "cell_type": "code",
   "execution_count": null,
   "id": "6842f17f-3237-4e95-b9e4-112354162d5c",
   "metadata": {},
   "outputs": [],
   "source": []
  },
  {
   "cell_type": "code",
   "execution_count": null,
   "id": "899d6764-65b8-40fe-a017-73a74d9b36d9",
   "metadata": {},
   "outputs": [],
   "source": []
  },
  {
   "cell_type": "markdown",
   "id": "60cfd466-1fe4-45b0-935f-a8deb5648196",
   "metadata": {},
   "source": [
    "### 4. bivariate_analysis"
   ]
  },
  {
   "cell_type": "code",
   "execution_count": 9,
   "id": "174d508e-361c-495c-9f51-995a427ca4ae",
   "metadata": {},
   "outputs": [
    {
     "name": "stdout",
     "output_type": "stream",
     "text": [
      "go\n"
     ]
    }
   ],
   "source": [
    "if show_bivariate_analysis:\n",
    "    print('go')"
   ]
  },
  {
   "cell_type": "code",
   "execution_count": 10,
   "id": "48dbea03-beba-4d41-bc02-7183ee4a22fc",
   "metadata": {},
   "outputs": [
    {
     "name": "stdout",
     "output_type": "stream",
     "text": [
      "correlations... time:2024-01-11 20:48:22\n"
     ]
    }
   ],
   "source": [
    "\"\"\" PARAMS \"\"\"\n",
    "# read params feature target\n",
    "target = config['config_report']['feature_target']\n",
    "\n",
    "# read param correlations\n",
    "param_theshold_corr = config['bivariate_analysis']['correlations']['threshold_corr']  # threshold in correlations between each feature \n",
    "param_theshold_corr_target = config['bivariate_analysis']['correlations']['threshold_corr_target']  # threshold in correlations between a target\n",
    "\n",
    "\n",
    "\"\"\" PLOTS \"\"\"\n",
    "################### fig correlations ###################\n",
    "print(f'correlations... time:{datetime.datetime.now().strftime(\"%Y-%m-%d %H:%M:%S\")}')\n",
    "\n",
    "# correlations all features\n",
    "_, df_corr_upper = bv.calculate_correlations_triu(data)\n",
    "df_corr_upper_filtered = bv.filter_correlations_by_threshold(df_corr_upper, param_theshold_corr)\n",
    "fig_corr_all = bv.plot_heatmap(df_corr = df_corr_upper_filtered)\n",
    "fig_corr_all.write_html(f\"output_eda/{id_report}/bivariate_analysis/corr_all.html\")\n",
    "\n",
    "# correlations against the target\n",
    "corr_target = bv.calculate_correlations_target(data, target)\n",
    "corr_target_filtered = bv.filter_correlations_by_threshold(corr_target, param_theshold_corr_target)\n",
    "fig_corr_target = bv.plot_heatmap(df_corr = corr_target_filtered)\n",
    "fig_corr_target.write_html(f\"output_eda/{id_report}/bivariate_analysis/corr_target.html\")"
   ]
  },
  {
   "cell_type": "code",
   "execution_count": null,
   "id": "327cd0c3-b8b5-402a-94f7-68780930f957",
   "metadata": {},
   "outputs": [],
   "source": []
  },
  {
   "cell_type": "code",
   "execution_count": null,
   "id": "d0a450bf-ea0c-40f0-8009-e599ba2406c2",
   "metadata": {},
   "outputs": [],
   "source": []
  },
  {
   "cell_type": "code",
   "execution_count": null,
   "id": "cfc0ceb5-1216-4140-92fa-e585fe826aa0",
   "metadata": {},
   "outputs": [],
   "source": []
  },
  {
   "cell_type": "markdown",
   "id": "21df8876-38ca-4cfb-b56a-02090115361b",
   "metadata": {},
   "source": [
    "### 5. data_segmentation_analysis"
   ]
  },
  {
   "cell_type": "code",
   "execution_count": 11,
   "id": "3390b762-1cc8-44ea-9b7c-a22f57b0407e",
   "metadata": {},
   "outputs": [],
   "source": [
    "if show_data_segmentation_analysis:\n",
    "    print('go')"
   ]
  },
  {
   "cell_type": "code",
   "execution_count": null,
   "id": "628150e8-41b9-474e-8d04-4d3321e4e359",
   "metadata": {},
   "outputs": [],
   "source": []
  },
  {
   "cell_type": "code",
   "execution_count": null,
   "id": "0c2fb86c-7a5f-4f12-9e52-90beada24dbb",
   "metadata": {},
   "outputs": [],
   "source": []
  },
  {
   "cell_type": "code",
   "execution_count": null,
   "id": "0dec9511-28ac-4580-b9c4-d3ad7b0420b3",
   "metadata": {},
   "outputs": [],
   "source": []
  }
 ],
 "metadata": {
  "kernelspec": {
   "display_name": "Python 3 (ipykernel)",
   "language": "python",
   "name": "python3"
  },
  "language_info": {
   "codemirror_mode": {
    "name": "ipython",
    "version": 3
   },
   "file_extension": ".py",
   "mimetype": "text/x-python",
   "name": "python",
   "nbconvert_exporter": "python",
   "pygments_lexer": "ipython3",
   "version": "3.10.12"
  }
 },
 "nbformat": 4,
 "nbformat_minor": 5
}
